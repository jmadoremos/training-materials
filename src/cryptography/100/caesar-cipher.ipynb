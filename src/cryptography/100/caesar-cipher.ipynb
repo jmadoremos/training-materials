{
 "cells": [
  {
   "cell_type": "markdown",
   "metadata": {},
   "source": [
    "# Simple Substitution Cipher\n",
    "\n",
    "A type of substitution cipher that uses a single substitution rule throughout the entire message. Each letter in the plaintext always maps to the same letter in the ciphertext.\n",
    "\n",
    "An example of this is the Caesar Cipher.\n",
    "\n",
    "## Caesar Cipher\n",
    "\n",
    "Caesar Cipher works by shifting each letter in the message a fixed number of positions down the alphabet. For example, the message `attack at dawn` would become `buubd bu ebxo` if shifted by 1. This cipher is named after Julius Caesar who reportedly used this methodology to secure messages sent to his generals during military campaigns.\n",
    "\n",
    "> **Fun fact:** Julius Caesar was using a shift value of 3.\n",
    "\n",
    "### Table of Values\n",
    "\n",
    "| Shift | A | B | C | D | E | F | G | H | I | J | K | L | M | N | O | P | Q | R | S | T | U | V | W | X | Y | Z |\n",
    "|:-----:|:-:|:-:|:-:|:-:|:-:|:-:|:-:|:-:|:-:|:-:|:-:|:-:|:-:|:-:|:-:|:-:|:-:|:-:|:-:|:-:|:-:|:-:|:-:|:-:|:-:|:-:|\n",
    "|**0**  | A | B | C | D | E | F | G | H | I | J | K | L | M | N | O | P | Q | R | S | T | U | V | W | X | Y | Z |\n",
    "|**1**  | B | C | D | E | F | G | H | I | J | K | L | M | N | O | P | Q | R | S | T | U | V | W | X | Y | Z | A |\n",
    "|**2**  | C | D | E | F | G | H | I | J | K | L | M | N | O | P | Q | R | S | T | U | V | W | X | Y | Z | A | B |\n",
    "|**3**  | D | E | F | G | H | I | J | K | L | M | N | O | P | Q | R | S | T | U | V | W | X | Y | Z | A | B | C |\n",
    "|**4**  | E | F | G | H | I | J | K | L | M | N | O | P | Q | R | S | T | U | V | W | X | Y | Z | A | B | C | D |\n",
    "|**5**  | F | G | H | I | J | K | L | M | N | O | P | Q | R | S | T | U | V | W | X | Y | Z | A | B | C | D | E |\n",
    "|**6**  | G | H | I | J | K | L | M | N | O | P | Q | R | S | T | U | V | W | X | Y | Z | A | B | C | D | E | F |\n",
    "|**7**  | H | I | J | K | L | M | N | O | P | Q | R | S | T | U | V | W | X | Y | Z | A | B | C | D | E | F | G |\n",
    "|**8**  | I | J | K | L | M | N | O | P | Q | R | S | T | U | V | W | X | Y | Z | A | B | C | D | E | F | G | H |\n",
    "|**9**  | J | K | L | M | N | O | P | Q | R | S | T | U | V | W | X | Y | Z | A | B | C | D | E | F | G | H | I |\n",
    "|**10** | K | L | M | N | O | P | Q | R | S | T | U | V | W | X | Y | Z | A | B | C | D | E | F | G | H | I | J |\n",
    "|**11** | L | M | N | O | P | Q | R | S | T | U | V | W | X | Y | Z | A | B | C | D | E | F | G | H | I | J | K |\n",
    "|**12** | M | N | O | P | Q | R | S | T | U | V | W | X | Y | Z | A | B | C | D | E | F | G | H | I | J | K | L |\n",
    "|**13** | N | O | P | Q | R | S | T | U | V | W | X | Y | Z | A | B | C | D | E | F | G | H | I | J | K | L | M |\n",
    "|**14** | O | P | Q | R | S | T | U | V | W | X | Y | Z | A | B | C | D | E | F | G | H | I | J | K | L | M | N |\n",
    "|**15** | P | Q | R | S | T | U | V | W | X | Y | Z | A | B | C | D | E | F | G | H | I | J | K | L | M | N | O |\n",
    "|**16** | Q | R | S | T | U | V | W | X | Y | Z | A | B | C | D | E | F | G | H | I | J | K | L | M | N | O | P |\n",
    "|**17** | R | S | T | U | V | W | X | Y | Z | A | B | C | D | E | F | G | H | I | J | K | L | M | N | O | P | Q |\n",
    "|**18** | S | T | U | V | W | X | Y | Z | A | B | C | D | E | F | G | H | I | J | K | L | M | N | O | P | Q | R |\n",
    "|**19** | T | U | V | W | X | Y | Z | A | B | C | D | E | F | G | H | I | J | K | L | M | N | O | P | Q | R | S |\n",
    "|**20** | U | V | W | X | Y | Z | A | B | C | D | E | F | G | H | I | J | K | L | M | N | O | P | Q | R | S | T |\n",
    "|**21** | V | W | X | Y | Z | A | B | C | D | E | F | G | H | I | J | K | L | M | N | O | P | Q | R | S | T | U |\n",
    "|**22** | W | X | Y | Z | A | B | C | D | E | F | G | H | I | J | K | L | M | N | O | P | Q | R | S | T | U | V |\n",
    "|**23** | X | Y | Z | A | B | C | D | E | F | G | H | I | J | K | L | M | N | O | P | Q | R | S | T | U | V | W |\n",
    "|**24** | Y | Z | A | B | C | D | E | F | G | H | I | J | K | L | M | N | O | P | Q | R | S | T | U | V | W | X |\n",
    "|**25** | Z | A | B | C | D | E | F | G | H | I | J | K | L | M | N | O | P | Q | R | S | T | U | V | W | X | Y |\n",
    "\n",
    "## Mathematical Statements\n",
    "\n",
    "### Encryption Function\n",
    "\n",
    "Let:\n",
    "- $S$ be the set of alphabet characters.\n",
    "- $P$ be the plaintext represented in numerical format.\n",
    "- $k$ be the shift.\n",
    "- $C$ be the ciphertext represented in numerical format.\n",
    "\n",
    "Encryption function:\n",
    "\n",
    "$\\forall P_i \\in P \\quad \\colon \\quad E(P_i,k) = (P_i + k) \\bmod |S| = C_i \\quad \\text{ such that } \\quad C_0 C_1 C_2 \\ldots C_n = C$\n",
    "\n",
    "Where:\n",
    "- $P_i,k,C_i \\in \\mathbb{Z}$\n",
    "- $0 \\leq k < |S|$\n",
    "\n",
    "### Decryption Function\n",
    "\n",
    "The decryption function is just the inverse of the encryption function.\n",
    "\n",
    "Decryption function:\n",
    "\n",
    "$\\forall C_i \\in C \\quad \\colon \\quad D(C_i,k) = E(C_i, -k) = P_i \\quad \\text{ such that } \\quad P_0 P_1 P_2 \\ldots P_n = P$"
   ]
  },
  {
   "cell_type": "code",
   "execution_count": 5,
   "metadata": {},
   "outputs": [
    {
     "name": "stdout",
     "output_type": "stream",
     "text": [
      "message:\tMEETATTHEDOCKSBYDAWN  ( shifted by 1)\n",
      "ciphertext:\tNFFUBUUIFEPDLTCZEBXO\n",
      "plaintext:\tMEETATTHEDOCKSBYDAWN\n"
     ]
    }
   ],
   "source": [
    "ALPHABET_CARDINALITY = ord(\"Z\") - ord(\"A\") + 1\n",
    "\n",
    "def caesar_encrypt(plaintext: str, shift: int = 3):\n",
    "    \"\"\"This function encrypts a message using Caesar Cipher\n",
    "\n",
    "    Args:\n",
    "        plaintext (str): The message to encrypt.\n",
    "        shift (int, optional): The number of positions to shift the message. Defaults to 3.\n",
    "\n",
    "    Returns:\n",
    "        str: The ciphertext.\n",
    "    \"\"\"\n",
    "    ciphertext = \"\"\n",
    "    for char in plaintext:\n",
    "        # Convert the character to number\n",
    "        char_code = ord(char) - ord(\"A\")\n",
    "        # Perform equation logic\n",
    "        new_char_code = char_code + shift\n",
    "        new_char_code = new_char_code % ALPHABET_CARDINALITY\n",
    "        # Convert number to character\n",
    "        new_char = new_char_code + ord(\"A\")\n",
    "        new_char = chr(new_char)\n",
    "        # Append to the result\n",
    "        ciphertext += new_char\n",
    "    return ciphertext\n",
    "\n",
    "def caesar_decrypt(ciphertext, shift):\n",
    "    \"\"\"This function decrypts a message using Caesar Cipher\n",
    "\n",
    "    Args:\n",
    "        ciphertext (str): The message to decrypt.\n",
    "        shift (int, optional): The number of positions to shift the message. Defaults to 3.\n",
    "\n",
    "    Returns:\n",
    "        str: The plaintext.\n",
    "    \"\"\"\n",
    "    return caesar_encrypt(ciphertext, -shift)\n",
    "\n",
    "# Parameters\n",
    "message = \"MEETATTHEDOCKSBYDAWN\"\n",
    "shift = 1\n",
    "\n",
    "# Example usage of encryption and decryption functions\n",
    "ciphertext = caesar_encrypt(message, shift)\n",
    "plaintext = caesar_decrypt(ciphertext, shift)\n",
    "\n",
    "# Print input and output\n",
    "print(f\"message:\\t{message}  ( shifted by {shift})\")\n",
    "print(f\"ciphertext:\\t{ciphertext}\")\n",
    "print(f\"plaintext:\\t{plaintext}\")\n",
    "assert message == plaintext, \"Plaintext does not match the original message.\""
   ]
  },
  {
   "cell_type": "markdown",
   "metadata": {},
   "source": [
    "<details>\n",
    "    <summary><strong>Notice anything odd with the implementation?</strong></summary>\n",
    "\n",
    "    - What happens if we insert a non-alphabet character like space to the message?\n",
    "    - What happens if we use different casing throughout the message?\n",
    "</details>"
   ]
  },
  {
   "cell_type": "code",
   "execution_count": 6,
   "metadata": {},
   "outputs": [
    {
     "name": "stdout",
     "output_type": "stream",
     "text": [
      "message:\tMEET AT THE DOCKS BY DAWN?  ( shifted by 1)\n",
      "ciphertext:\tNFFUUBUUUIFUEPDLTUCZUEBXOZ\n",
      "plaintext:\tMEETTATTTHETDOCKSTBYTDAWNY\n"
     ]
    },
    {
     "ename": "AssertionError",
     "evalue": "Plaintext does not match the original message.",
     "output_type": "error",
     "traceback": [
      "\u001b[0;31m---------------------------------------------------------------------------\u001b[0m",
      "\u001b[0;31mAssertionError\u001b[0m                            Traceback (most recent call last)",
      "Cell \u001b[0;32mIn[6], line 13\u001b[0m\n\u001b[1;32m     11\u001b[0m \u001b[38;5;28mprint\u001b[39m(\u001b[38;5;124mf\u001b[39m\u001b[38;5;124m\"\u001b[39m\u001b[38;5;124mciphertext:\u001b[39m\u001b[38;5;130;01m\\t\u001b[39;00m\u001b[38;5;132;01m{\u001b[39;00mciphertext\u001b[38;5;132;01m}\u001b[39;00m\u001b[38;5;124m\"\u001b[39m)\n\u001b[1;32m     12\u001b[0m \u001b[38;5;28mprint\u001b[39m(\u001b[38;5;124mf\u001b[39m\u001b[38;5;124m\"\u001b[39m\u001b[38;5;124mplaintext:\u001b[39m\u001b[38;5;130;01m\\t\u001b[39;00m\u001b[38;5;132;01m{\u001b[39;00mplaintext\u001b[38;5;132;01m}\u001b[39;00m\u001b[38;5;124m\"\u001b[39m)\n\u001b[0;32m---> 13\u001b[0m \u001b[38;5;28;01massert\u001b[39;00m message \u001b[38;5;241m==\u001b[39m plaintext, \u001b[38;5;124m\"\u001b[39m\u001b[38;5;124mPlaintext does not match the original message.\u001b[39m\u001b[38;5;124m\"\u001b[39m\n",
      "\u001b[0;31mAssertionError\u001b[0m: Plaintext does not match the original message."
     ]
    }
   ],
   "source": [
    "# Parameters with non-alphabet characters\n",
    "message = \"MEET AT THE DOCKS BY DAWN?\"\n",
    "shift = 1\n",
    "\n",
    "# Try to encrypt and decrypt\n",
    "ciphertext = caesar_encrypt(message, shift)\n",
    "plaintext = caesar_decrypt(ciphertext, shift)\n",
    "\n",
    "# Print input and output\n",
    "print(f\"message:\\t{message}  ( shifted by {shift})\")\n",
    "print(f\"ciphertext:\\t{ciphertext}\")\n",
    "print(f\"plaintext:\\t{plaintext}\")\n",
    "assert message == plaintext, \"Plaintext does not match the original message.\""
   ]
  },
  {
   "cell_type": "code",
   "execution_count": 7,
   "metadata": {},
   "outputs": [
    {
     "name": "stdout",
     "output_type": "stream",
     "text": [
      "message:\tMeet at the docks by dawn?  ( shifted by 1)\n",
      "ciphertext:\tNLLAUHAUAOLUKVJRZUIFUKHDUZ\n",
      "plaintext:\tMKKZTGZTZNKTJUIQYTHETJGCTY\n"
     ]
    },
    {
     "ename": "AssertionError",
     "evalue": "Plaintext does not match the original message.",
     "output_type": "error",
     "traceback": [
      "\u001b[0;31m---------------------------------------------------------------------------\u001b[0m",
      "\u001b[0;31mAssertionError\u001b[0m                            Traceback (most recent call last)",
      "Cell \u001b[0;32mIn[7], line 13\u001b[0m\n\u001b[1;32m     11\u001b[0m \u001b[38;5;28mprint\u001b[39m(\u001b[38;5;124mf\u001b[39m\u001b[38;5;124m\"\u001b[39m\u001b[38;5;124mciphertext:\u001b[39m\u001b[38;5;130;01m\\t\u001b[39;00m\u001b[38;5;132;01m{\u001b[39;00mciphertext\u001b[38;5;132;01m}\u001b[39;00m\u001b[38;5;124m\"\u001b[39m)\n\u001b[1;32m     12\u001b[0m \u001b[38;5;28mprint\u001b[39m(\u001b[38;5;124mf\u001b[39m\u001b[38;5;124m\"\u001b[39m\u001b[38;5;124mplaintext:\u001b[39m\u001b[38;5;130;01m\\t\u001b[39;00m\u001b[38;5;132;01m{\u001b[39;00mplaintext\u001b[38;5;132;01m}\u001b[39;00m\u001b[38;5;124m\"\u001b[39m)\n\u001b[0;32m---> 13\u001b[0m \u001b[38;5;28;01massert\u001b[39;00m message \u001b[38;5;241m==\u001b[39m plaintext, \u001b[38;5;124m\"\u001b[39m\u001b[38;5;124mPlaintext does not match the original message.\u001b[39m\u001b[38;5;124m\"\u001b[39m\n",
      "\u001b[0;31mAssertionError\u001b[0m: Plaintext does not match the original message."
     ]
    }
   ],
   "source": [
    "# Parameters with non-alphabet characters and varying casing\n",
    "message = \"Meet at the docks by dawn?\"\n",
    "shift = 1\n",
    "\n",
    "# Try to encrypt and decrypt\n",
    "ciphertext = caesar_encrypt(message, shift)\n",
    "plaintext = caesar_decrypt(ciphertext, shift)\n",
    "\n",
    "# Print input and output\n",
    "print(f\"message:\\t{message}  ( shifted by {shift})\")\n",
    "print(f\"ciphertext:\\t{ciphertext}\")\n",
    "print(f\"plaintext:\\t{plaintext}\")\n",
    "assert message == plaintext, \"Plaintext does not match the original message.\""
   ]
  },
  {
   "cell_type": "markdown",
   "metadata": {},
   "source": [
    "### Improved Encryption Function\n",
    "\n",
    "Let:\n",
    "- $S$ be the set of alphabet characters.\n",
    "- $P$ be the plaintext represented in numerical format.\n",
    "- $k$ be the shift.\n",
    "- $C$ be the ciphertext represented in numerical format.\n",
    "\n",
    "Encryption function:\n",
    "\n",
    "$\n",
    "\\forall P_i \\in P \\quad \\colon \\quad E(P_i,k) =\n",
    "    \\begin{cases}\n",
    "        \\quad (P_i + k) \\bmod |S|         & \\quad \\text{if } P_i \\in S \\\\\n",
    "        \\quad P_i                         & \\quad \\text{otherwise}\n",
    "    \\end{cases}\n",
    "    = C_i \\quad \\text{ such that } \\quad C_0C_1C_2 \\ldots C_n = C\n",
    "$\n",
    "\n",
    "Where:\n",
    "- $P_i,k,C_i \\in \\mathbb{Z}$\n",
    "- $0 \\leq k \\leq |S| - 1$\n",
    "\n",
    "### Improved Decryption Function\n",
    "\n",
    "This is still simply the inverse of the improved encryption function.\n",
    "\n",
    "Decryption function:\n",
    "\n",
    "$\\forall C_i \\in C \\quad \\colon \\quad D(C_i,k) = E(C_i, -k) = P_i \\quad \\text{ such that } \\quad P_0 P_1 P_2 \\ldots P_n = P$"
   ]
  },
  {
   "cell_type": "code",
   "execution_count": 8,
   "metadata": {},
   "outputs": [
    {
     "name": "stdout",
     "output_type": "stream",
     "text": [
      "message:\tMEET AT THE DOCKS BY DAWN?  ( shifted by 1)\n",
      "ciphertext:\tNFFU BU UIF EPDLT CZ EBXO?\n",
      "plaintext:\tMEET AT THE DOCKS BY DAWN?\n"
     ]
    }
   ],
   "source": [
    "ALPHABET_CARDINALITY = ord(\"Z\") - ord(\"A\") + 1\n",
    "\n",
    "def caesar_encrypt_v2(plaintext: str, shift: int = 3):\n",
    "    \"\"\"This function encrypts a message using Caesar Cipher\n",
    "\n",
    "    Args:\n",
    "        plaintext (str): The message to encrypt.\n",
    "        shift (int, optional): The number of positions to shift the plaintext. Defaults to 3.\n",
    "\n",
    "    Returns:\n",
    "        str: The ciphertext.\n",
    "    \"\"\"\n",
    "    ciphertext = \"\"\n",
    "    for char in plaintext:\n",
    "        if char.isalpha():\n",
    "            # Determine 0 position based on casing\n",
    "            base_position = ord(\"A\") if char.isupper() else ord(\"a\")\n",
    "            # Shift by k\n",
    "            new_char = ord(char) + shift\n",
    "            new_char = (new_char - base_position) % ALPHABET_CARDINALITY\n",
    "            new_char = new_char + base_position\n",
    "            ciphertext += chr(new_char)\n",
    "        else:\n",
    "            # Keep the character as is\n",
    "            ciphertext += char\n",
    "    return ciphertext\n",
    "\n",
    "def caesar_decrypt_v2(ciphertext: str, shift: int = 3):\n",
    "    \"\"\"This function decrypts a message using Caesar Cipher\n",
    "\n",
    "    Args:\n",
    "        ciphertext (str): The message to decrypt.\n",
    "        shift (int, optional): The number of positions to shift the message. Defaults to 3.\n",
    "\n",
    "    Returns:\n",
    "        str: The plaintext.\n",
    "    \"\"\"\n",
    "    return caesar_encrypt_v2(ciphertext, -shift)\n",
    "\n",
    "# Failed parameters with non-alphabet characters\n",
    "message = \"MEET AT THE DOCKS BY DAWN?\"\n",
    "shift = 1\n",
    "\n",
    "# Try to encrypt and decrypt\n",
    "ciphertext = caesar_encrypt_v2(message, shift)\n",
    "plaintext = caesar_decrypt_v2(ciphertext, shift)\n",
    "\n",
    "# Print input and output\n",
    "print(f\"message:\\t{message}  ( shifted by {shift})\")\n",
    "print(f\"ciphertext:\\t{ciphertext}\")\n",
    "print(f\"plaintext:\\t{plaintext}\")\n",
    "assert message == plaintext, \"Plaintext does not match the original message.\""
   ]
  },
  {
   "cell_type": "code",
   "execution_count": 9,
   "metadata": {},
   "outputs": [
    {
     "name": "stdout",
     "output_type": "stream",
     "text": [
      "message:\tMeet at the docks by dawn?  ( shifted by 1)\n",
      "ciphertext:\tNffu bu uif epdlt cz ebxo?\n",
      "plaintext:\tMeet at the docks by dawn?\n"
     ]
    }
   ],
   "source": [
    "# Failed parameters with non-alphabet characters and varying casing\n",
    "message = \"Meet at the docks by dawn?\"\n",
    "shift = 1\n",
    "\n",
    "# Try to encrypt and decrypt\n",
    "ciphertext = caesar_encrypt_v2(message, shift)\n",
    "plaintext = caesar_decrypt_v2(ciphertext, shift)\n",
    "\n",
    "# Print input and output\n",
    "print(f\"message:\\t{message}  ( shifted by {shift})\")\n",
    "print(f\"ciphertext:\\t{ciphertext}\")\n",
    "print(f\"plaintext:\\t{plaintext}\")\n",
    "assert message == plaintext, \"Plaintext does not match the original message.\""
   ]
  },
  {
   "cell_type": "code",
   "execution_count": 10,
   "metadata": {},
   "outputs": [
    {
     "name": "stdout",
     "output_type": "stream",
     "text": [
      "message:\tWas it a whisper or was it the wind? He wasn't quite sure. He thought he heard a voice but all he could hear was the wind rustling the leaves.  (shifted by 16)\n",
      "ciphertext:\tMqi yj q mxyifuh eh mqi yj jxu mydt? Xu mqid'j gkyju ikhu. Xu jxekwxj xu xuqht q leysu rkj qbb xu sekbt xuqh mqi jxu mydt hkijbydw jxu buqlui.\n",
      "plaintext:\tWas it a whisper or was it the wind? He wasn't quite sure. He thought he heard a voice but all he could hear was the wind rustling the leaves.\n"
     ]
    }
   ],
   "source": [
    "# Complicated parameters\n",
    "message = \"Was it a whisper or was it the wind? He wasn't quite sure. He thought he heard a voice but all he could hear was the wind rustling the leaves.\"\n",
    "shift = 16\n",
    "\n",
    "# Try to encrypt and decrypt\n",
    "ciphertext = caesar_encrypt_v2(message, shift)\n",
    "plaintext = caesar_decrypt_v2(ciphertext, shift)\n",
    "\n",
    "# Print input and output\n",
    "print(f\"message:\\t{message}  (shifted by {shift})\")\n",
    "print(f\"ciphertext:\\t{ciphertext}\")\n",
    "print(f\"plaintext:\\t{plaintext}\")\n",
    "assert message == plaintext, \"Plaintext does not match the original message.\""
   ]
  },
  {
   "cell_type": "markdown",
   "metadata": {},
   "source": [
    "## Cryptanalysis\n",
    "\n",
    "**Cryptanalysis** is the process of decrypting ciphertexts without prior knowledge of the cryptosystem and the key. **Cryptosystem** are the components that make encryption possible, including the algorithm, key, and key management functions.\n",
    "\n",
    "<details>\n",
    "    <summary><strong>Have you noticed anything with the examples?</strong></summary>\n",
    "\n",
    "    - The ciphertext and the plaintext always have the same length.\n",
    "    - Each plaintext character is encrypted to the same ciphertext character (e.g., all As are encrypted to Ds if the shift is 3).\n",
    "    - The key (shift) is limited to a meaningful value of 0 to 25.\n",
    "</details>\n",
    "\n",
    "### Bruteforce Attack\n",
    "\n",
    "**Bruteforce attack** is a process of trying all possible keys to decrypt a given plaintext. Since Caesar Cipher has a limited set of possible keys, it is relatively easy to go through all of the keys one at a time on the ciphertext to try and get a meaningful result.\n",
    "\n",
    "Mathematically speaking,\n",
    "\n",
    "Let:\n",
    "- $C$ is the ciphertext to break.\n",
    "- $K$ is the key space (i.e., 0 to 25).\n",
    "- $D(C_i,K_i)$ is the decryption function passed with the ciphertext character $C_i$ and test shift $K_i$.\n",
    "- $N$ is the decrypted ciphertext.\n",
    "- $P$ is the original plaintext.\n",
    "\n",
    "We will have:\n",
    "\n",
    "$\\forall C_i \\in C \\text{ and } \\forall K_i \\in K \\quad : \\quad D(C_i,K_i) = N_i \\quad \\text{ such that } \\quad N_0N_1N_2 \\ldots N_n = N$\n"
   ]
  },
  {
   "cell_type": "code",
   "execution_count": 11,
   "metadata": {},
   "outputs": [
    {
     "name": "stdout",
     "output_type": "stream",
     "text": [
      "ciphertext:\t\tMqi yj q mxyifuh eh mqi yj jxu mydt? Xu mqid'j gkyju ikhu. Xu jxekwxj xu xuqht q leysu rkj qbb xu sekbt xuqh mqi jxu mydt hkijbydw jxu buqlui.\n",
      "decrypted message:\tMqi yj q mxyifuh eh mqi yj jxu mydt? Xu mqid'j gkyju ikhu. Xu jxekwxj xu xuqht q leysu rkj qbb xu sekbt xuqh mqi jxu mydt hkijbydw jxu buqlui.  (shifted by 0)\n",
      "decrypted message:\tLph xi p lwxhetg dg lph xi iwt lxcs? Wt lphc'i fjxit hjgt. Wt iwdjvwi wt wtpgs p kdxrt qji paa wt rdjas wtpg lph iwt lxcs gjhiaxcv iwt atpkth.  (shifted by 1)\n",
      "decrypted message:\tKog wh o kvwgdsf cf kog wh hvs kwbr? Vs kogb'h eiwhs gifs. Vs hvciuvh vs vsofr o jcwqs pih ozz vs qcizr vsof kog hvs kwbr fighzwbu hvs zsojsg.  (shifted by 2)\n",
      "decrypted message:\tJnf vg n juvfcre be jnf vg gur jvaq? Ur jnfa'g dhvgr fher. Ur gubhtug ur urneq n ibvpr ohg nyy ur pbhyq urne jnf gur jvaq ehfgyvat gur yrnirf.  (shifted by 3)\n",
      "decrypted message:\tIme uf m ituebqd ad ime uf ftq iuzp? Tq imez'f cgufq egdq. Tq ftagstf tq tqmdp m hauoq ngf mxx tq oagxp tqmd ime ftq iuzp dgefxuzs ftq xqmhqe.  (shifted by 4)\n",
      "decrypted message:\tHld te l hstdapc zc hld te esp htyo? Sp hldy'e bftep dfcp. Sp eszfrse sp splco l gztnp mfe lww sp nzfwo splc hld esp htyo cfdewtyr esp wplgpd.  (shifted by 5)\n",
      "decrypted message:\tGkc sd k grsczob yb gkc sd dro gsxn? Ro gkcx'd aesdo cebo. Ro dryeqrd ro rokbn k fysmo led kvv ro myevn rokb gkc dro gsxn becdvsxq dro vokfoc.  (shifted by 6)\n",
      "decrypted message:\tFjb rc j fqrbyna xa fjb rc cqn frwm? Qn fjbw'c zdrcn bdan. Qn cqxdpqc qn qnjam j exrln kdc juu qn lxdum qnja fjb cqn frwm adbcurwp cqn unjenb.  (shifted by 7)\n",
      "decrypted message:\tEia qb i epqaxmz wz eia qb bpm eqvl? Pm eiav'b ycqbm aczm. Pm bpwcopb pm pmizl i dwqkm jcb itt pm kwctl pmiz eia bpm eqvl zcabtqvo bpm tmidma.  (shifted by 8)\n",
      "decrypted message:\tDhz pa h dopzwly vy dhz pa aol dpuk? Ol dhzu'a xbpal zbyl. Ol aovbnoa ol olhyk h cvpjl iba hss ol jvbsk olhy dhz aol dpuk ybzaspun aol slhclz.  (shifted by 9)\n",
      "decrypted message:\tCgy oz g cnoyvkx ux cgy oz znk cotj? Nk cgyt'z waozk yaxk. Nk znuamnz nk nkgxj g buoik haz grr nk iuarj nkgx cgy znk cotj xayzrotm znk rkgbky.  (shifted by 10)\n",
      "decrypted message:\tBfx ny f bmnxujw tw bfx ny ymj bnsi? Mj bfxs'y vznyj xzwj. Mj ymtzlmy mj mjfwi f atnhj gzy fqq mj htzqi mjfw bfx ymj bnsi wzxyqnsl ymj qjfajx.  (shifted by 11)\n",
      "decrypted message:\tAew mx e almwtiv sv aew mx xli amrh? Li aewr'x uymxi wyvi. Li xlsyklx li lievh e zsmgi fyx epp li gsyph liev aew xli amrh vywxpmrk xli pieziw.  (shifted by 12)\n",
      "decrypted message:\tZdv lw d zklvshu ru zdv lw wkh zlqg? Kh zdvq'w txlwh vxuh. Kh wkrxjkw kh khdug d yrlfh exw doo kh frxog khdu zdv wkh zlqg uxvwolqj wkh ohdyhv.  (shifted by 13)\n",
      "decrypted message:\tYcu kv c yjkurgt qt ycu kv vjg ykpf? Jg ycup'v swkvg uwtg. Jg vjqwijv jg jgctf c xqkeg dwv cnn jg eqwnf jgct ycu vjg ykpf twuvnkpi vjg ngcxgu.  (shifted by 14)\n",
      "decrypted message:\tXbt ju b xijtqfs ps xbt ju uif xjoe? If xbto'u rvjuf tvsf. If uipvhiu if ifbse b wpjdf cvu bmm if dpvme ifbs xbt uif xjoe svtumjoh uif mfbwft.  (shifted by 15)\n",
      "decrypted message:\tWas it a whisper or was it the wind? He wasn't quite sure. He thought he heard a voice but all he could hear was the wind rustling the leaves.  (shifted by 16)\n",
      "decrypted message:\tVzr hs z vghrodq nq vzr hs sgd vhmc? Gd vzrm's pthsd rtqd. Gd sgntfgs gd gdzqc z unhbd ats zkk gd bntkc gdzq vzr sgd vhmc qtrskhmf sgd kdzudr.  (shifted by 17)\n",
      "decrypted message:\tUyq gr y ufgqncp mp uyq gr rfc uglb? Fc uyql'r osgrc qspc. Fc rfmsefr fc fcypb y tmgac zsr yjj fc amsjb fcyp uyq rfc uglb psqrjgle rfc jcytcq.  (shifted by 18)\n",
      "decrypted message:\tTxp fq x tefpmbo lo txp fq qeb tfka? Eb txpk'q nrfqb prob. Eb qelrdeq eb ebxoa x slfzb yrq xii eb zlria ebxo txp qeb tfka orpqifkd qeb ibxsbp.  (shifted by 19)\n",
      "decrypted message:\tSwo ep w sdeolan kn swo ep pda sejz? Da swoj'p mqepa oqna. Da pdkqcdp da dawnz w rkeya xqp whh da ykqhz dawn swo pda sejz nqophejc pda hawrao.  (shifted by 20)\n",
      "decrypted message:\tRvn do v rcdnkzm jm rvn do ocz rdiy? Cz rvni'o lpdoz npmz. Cz ocjpbco cz czvmy v qjdxz wpo vgg cz xjpgy czvm rvn ocz rdiy mpnogdib ocz gzvqzn.  (shifted by 21)\n",
      "decrypted message:\tQum cn u qbcmjyl il qum cn nby qchx? By qumh'n kocny moly. By nbioabn by byulx u picwy von uff by wiofx byul qum nby qchx lomnfcha nby fyupym.  (shifted by 22)\n",
      "decrypted message:\tPtl bm t pablixk hk ptl bm max pbgw? Ax ptlg'm jnbmx lnkx. Ax mahnzam ax axtkw t ohbvx unm tee ax vhnew axtk ptl max pbgw knlmebgz max extoxl.  (shifted by 23)\n",
      "decrypted message:\tOsk al s ozakhwj gj osk al lzw oafv? Zw oskf'l imalw kmjw. Zw lzgmyzl zw zwsjv s ngauw tml sdd zw ugmdv zwsj osk lzw oafv jmkldafy lzw dwsnwk.  (shifted by 24)\n",
      "decrypted message:\tNrj zk r nyzjgvi fi nrj zk kyv nzeu? Yv nrje'k hlzkv jliv. Yv kyflxyk yv yvriu r mfztv slk rcc yv tflcu yvri nrj kyv nzeu iljkczex kyv cvrmvj.  (shifted by 25)\n"
     ]
    }
   ],
   "source": [
    "def caesar_bruteforce(ciphertext: str):\n",
    "    \"\"\"This function bruteforces a ciphertext using Caesar Cipher.\n",
    "\n",
    "    Args:\n",
    "        ciphertext (str): The ciphertext to break.\n",
    "\n",
    "    Returns:\n",
    "        str: The best match plaintext.\n",
    "    \"\"\"\n",
    "    for key in range(26):\n",
    "        decrypted_message = caesar_decrypt_v2(ciphertext, key)\n",
    "        print(f\"decrypted message:\\t{decrypted_message}  (shifted by {key})\")\n",
    "        \n",
    "# Test\n",
    "print(f\"ciphertext:\\t\\t{ciphertext}\")\n",
    "caesar_bruteforce(ciphertext)"
   ]
  },
  {
   "cell_type": "markdown",
   "metadata": {},
   "source": [
    "**Let us improve the bruteforce function by auto-detecting the output.**\n",
    "\n",
    "We will use a third-party library to test against well-known languages with confidence score. If the confidence score is high enough, we will consider them as possible matches for those languages."
   ]
  },
  {
   "cell_type": "code",
   "execution_count": 12,
   "metadata": {},
   "outputs": [
    {
     "name": "stdout",
     "output_type": "stream",
     "text": [
      "Defaulting to user installation because normal site-packages is not writeable\n",
      "Requirement already satisfied: lingua-language-detector in /home/vscode/.local/lib/python3.12/site-packages (2.0.2)\n",
      "Note: you may need to restart the kernel to use updated packages.\n"
     ]
    }
   ],
   "source": [
    "# The most accurate natural language detection library for Python, suitable for short text and mixed-language text\n",
    "%pip install lingua-language-detector"
   ]
  },
  {
   "cell_type": "code",
   "execution_count": 13,
   "metadata": {},
   "outputs": [
    {
     "name": "stdout",
     "output_type": "stream",
     "text": [
      "Confidence threshold: 0.8\n",
      "\n",
      "message: This should be reported as an en language\n",
      "ENGLISH: 0.95\n",
      "\n",
      "message: Esto debe informarse como un idioma es\n",
      "SPANISH: 0.87\n",
      "\n",
      "message: ja'chuqtaHvIS cha' tlhInganpu'\n"
     ]
    }
   ],
   "source": [
    "from lingua import Language, LanguageDetectorBuilder\n",
    "\n",
    "# Define set of languages to test against\n",
    "languages = [\n",
    "    Language.ENGLISH,\n",
    "    Language.DUTCH,\n",
    "    Language.FRENCH,\n",
    "    Language.GERMAN,\n",
    "    Language.HINDI,\n",
    "    Language.JAPANESE,\n",
    "    Language.KOREAN,\n",
    "    Language.PERSIAN,\n",
    "    Language.PUNJABI,\n",
    "    Language.RUSSIAN,\n",
    "    Language.SPANISH,\n",
    "    Language.TAGALOG,\n",
    "    Language.VIETNAMESE\n",
    "]\n",
    "\n",
    "# Define detector based on the specific list of languages\n",
    "detector = LanguageDetectorBuilder\\\n",
    "    .from_languages(*languages)\\\n",
    "    .with_minimum_relative_distance(0.95)\\\n",
    "    .build()\n",
    "\n",
    "# Define confidence threshold\n",
    "CONFIDENCE_THRESHOLD = 0.8\n",
    "\n",
    "# Define confidence tester\n",
    "def is_confident(confidence):\n",
    "    \"\"\"Checks if the confidence score is high enough\n",
    "\n",
    "    Args:\n",
    "        confidence: Result from detector.compute_language_confidence_values() method\n",
    "\n",
    "    Returns:\n",
    "        (boolean): Confidence flag\n",
    "    \"\"\"\n",
    "    return confidence.value >= CONFIDENCE_THRESHOLD\n",
    "\n",
    "print(\"Confidence threshold:\", CONFIDENCE_THRESHOLD)\n",
    "print()\n",
    "\n",
    "# Test an english message\n",
    "test1_message = \"This should be reported as an \"\"en\"\" language\"\n",
    "test1_confidence_scores = detector.compute_language_confidence_values(test1_message)\n",
    "test1_confidence_scores = filter(is_confident, test1_confidence_scores)\n",
    "\n",
    "print(\"message:\", test1_message)\n",
    "for confidence in test1_confidence_scores:\n",
    "    print(f\"{confidence.language.name}: {confidence.value:.2f}\")\n",
    "print()\n",
    "\n",
    "# Test a spanish message\n",
    "test2_message = \"Esto debe informarse como un idioma \"\"es\"\n",
    "test2_confidence_scores = detector.compute_language_confidence_values(test2_message)\n",
    "test2_confidence_scores = filter(is_confident, test2_confidence_scores)\n",
    "\n",
    "print(\"message:\", test2_message)\n",
    "for confidence in test2_confidence_scores:\n",
    "    print(f\"{confidence.language.name}: {confidence.value:.2f}\")\n",
    "print()\n",
    "   \n",
    "# Test a non-well-known language\n",
    "test3_message = \"ja'chuqtaHvIS cha' tlhInganpu'\"\n",
    "test3_confidence_scores = detector.compute_language_confidence_values(test3_message)\n",
    "test3_confidence_scores = filter(is_confident, test3_confidence_scores)\n",
    "\n",
    "print(\"message:\", test3_message)\n",
    "for confidence in test3_confidence_scores:\n",
    "    print(f\"{confidence.language.name}: {confidence.value:.2f}\")"
   ]
  },
  {
   "cell_type": "code",
   "execution_count": 14,
   "metadata": {},
   "outputs": [
    {
     "name": "stdout",
     "output_type": "stream",
     "text": [
      "ciphertext:\t\tMqi yj q mxyifuh eh mqi yj jxu mydt? Xu mqid'j gkyju ikhu. Xu jxekwxj xu xuqht q leysu rkj qbb xu sekbt xuqh mqi jxu mydt hkijbydw jxu buqlui.\n",
      "decrypted message:\tWas it a whisper or was it the wind? He wasn't quite sure. He thought he heard a voice but all he could hear was the wind rustling the leaves.  (shifted by 16, language is ENGLISH, confidence is 0.98)\n"
     ]
    }
   ],
   "source": [
    "def caesar_bruteforce_v2(ciphertext: str, language: str = \"\"):\n",
    "    \"\"\"This function bruteforces a ciphertext using Caesar Cipher.\n",
    "\n",
    "    Args:\n",
    "        ciphertext (str): The ciphertext to break.\n",
    "        language (str): Known language of the plaintext.\n",
    "    \"\"\"\n",
    "    for key in range(26):\n",
    "        # Try to decrypt the message\n",
    "        decrypted_message = caesar_decrypt_v2(ciphertext, key)\n",
    "        \n",
    "        # Predict match to well-known languages\n",
    "        confidence_scores = detector.compute_language_confidence_values(decrypted_message)\n",
    "        confidence_scores = list(filter(is_confident, confidence_scores))\n",
    "        \n",
    "        # Add as a possible match\n",
    "        if len(confidence_scores) > 0:\n",
    "            if language == \"\" or confidence_scores[0].language.name == language:\n",
    "                print(f\"decrypted message:\\t{decrypted_message}  (shifted by {key}, language is {confidence_scores[0].language.name}, confidence is {confidence_scores[0].value:.2f})\")\n",
    "\n",
    "# Test\n",
    "print(f\"ciphertext:\\t\\t{ciphertext}\")\n",
    "caesar_bruteforce_v2(ciphertext, \"ENGLISH\")"
   ]
  },
  {
   "cell_type": "markdown",
   "metadata": {},
   "source": [
    "### Frequency Analysis\n",
    "\n",
    "**Frequency Analysis** is an attack that analyzes the frequency of letters in the ciphertext to guess the shift value.\n",
    "\n",
    "### Known Plaintext Attack\n",
    "\n",
    "**Known Plaintext Attack** is an attack possible if we have a portion of the plaintext that corresponds to a part of the ciphertext. We calculate the distance between the ciphertext character with the corresponding known plaintext character.\n",
    "\n",
    "### Dictionary Attack\n",
    "\n",
    "**Dictionary Attack** is an attack possible if the language is known. We comparing words of the decrypted cipher against a list of known words in of a specific language."
   ]
  },
  {
   "cell_type": "markdown",
   "metadata": {},
   "source": [
    "## Activity: Et tu, Julius?\n",
    "\n",
    "Raven, a Roman spy, clutched a scroll bearing Caesar's seal. Decoded in his cramped cabin, the message revealed a brewing Gallic rebellion. He couldn't risk revealing details before reaching Rome.\n",
    "\n",
    "He crafted an acknowledgement, a pre-arranged confirmation. It wouldn't betray the message's content. Days later, he presented it to Caesar.\n",
    "\n",
    "\"The message has been received, understood, and acted upon,\" Raven said, urgency lacing his voice. \"The response requires your immediate attention.\"\n",
    "\n",
    "Caesar's eyes narrowed, then a smile played on his lips. The acknowledgement and Raven's urgency confirmed the threat. The fate of Rome balanced on those coded words, and Raven, the silent Raven, had ensured they were heard.\n",
    "\n",
    "You are Raven. What is the acknowledgement you gave Caesar?\n",
    "\n",
    "```\n",
    "Part of the coded message:\n",
    "Axitgpijh cjcr? Sp htrjcspt bdgth egxbx cdbxcxh ijx.\n",
    "```"
   ]
  }
 ],
 "metadata": {
  "kernelspec": {
   "display_name": "Python 3",
   "language": "python",
   "name": "python3"
  },
  "language_info": {
   "codemirror_mode": {
    "name": "ipython",
    "version": 3
   },
   "file_extension": ".py",
   "mimetype": "text/x-python",
   "name": "python",
   "nbconvert_exporter": "python",
   "pygments_lexer": "ipython3",
   "version": "3.12.3"
  }
 },
 "nbformat": 4,
 "nbformat_minor": 2
}
